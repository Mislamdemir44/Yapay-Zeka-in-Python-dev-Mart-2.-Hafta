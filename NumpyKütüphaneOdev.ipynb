{
 "cells": [
  {
   "cell_type": "code",
   "execution_count": 2,
   "id": "95970dc9-0605-43d7-a987-73e086e30dfa",
   "metadata": {},
   "outputs": [],
   "source": [
    "import numpy as np"
   ]
  },
  {
   "cell_type": "markdown",
   "id": "1a8d54a0-100c-400d-ad59-8979a1e81547",
   "metadata": {},
   "source": [
    "1. np.array() – NumPy Dizisi Oluşturma\n"
   ]
  },
  {
   "cell_type": "code",
   "execution_count": 3,
   "id": "33c45be6-a84a-4ddd-a9f9-3c69fd705814",
   "metadata": {},
   "outputs": [
    {
     "name": "stdout",
     "output_type": "stream",
     "text": [
      "1. NumPy Dizisi:\n",
      "[1 2 3 4 5]\n"
     ]
    }
   ],
   "source": [
    "arr = np.array([1, 2, 3, 4, 5])\n",
    "print(\"1. NumPy Dizisi:\")\n",
    "print(arr)\n"
   ]
  },
  {
   "cell_type": "markdown",
   "id": "c5c17234-663c-475b-b436-ced4b373b029",
   "metadata": {},
   "source": [
    "2. np.zeros() & np.ones() – Sıfır ve Birlerden Oluşan Diziler\n"
   ]
  },
  {
   "cell_type": "code",
   "execution_count": 4,
   "id": "eb05c371-70b0-4de4-bab4-1683255e71ac",
   "metadata": {},
   "outputs": [
    {
     "name": "stdout",
     "output_type": "stream",
     "text": [
      "\n",
      "2. 3x3 Sıfır Dizisi:\n",
      "[[0. 0. 0.]\n",
      " [0. 0. 0.]\n",
      " [0. 0. 0.]]\n",
      "\n",
      "2. 2x4 Birler Dizisi:\n",
      "[[1. 1. 1. 1.]\n",
      " [1. 1. 1. 1.]]\n"
     ]
    }
   ],
   "source": [
    "zeros_arr = np.zeros((3, 3))\n",
    "ones_arr = np.ones((2, 4))\n",
    "print(\"\\n2. 3x3 Sıfır Dizisi:\")\n",
    "print(zeros_arr)\n",
    "print(\"\\n2. 2x4 Birler Dizisi:\")\n",
    "print(ones_arr)"
   ]
  },
  {
   "cell_type": "markdown",
   "id": "856e03eb-c729-4675-8a19-781cfcce9363",
   "metadata": {},
   "source": [
    "3. np.arange() – Belirli Aralıkta Sayı Dizisi\n"
   ]
  },
  {
   "cell_type": "code",
   "execution_count": 5,
   "id": "a9aadcd2-638b-4421-98e6-109c5ed7678f",
   "metadata": {},
   "outputs": [
    {
     "name": "stdout",
     "output_type": "stream",
     "text": [
      "\n",
      "3. 0'dan 10'a kadar 2 artan dizi:\n",
      "[0 2 4 6 8]\n"
     ]
    }
   ],
   "source": [
    "arange_arr = np.arange(0, 10, 2)\n",
    "print(\"\\n3. 0'dan 10'a kadar 2 artan dizi:\")\n",
    "print(arange_arr)\n"
   ]
  },
  {
   "cell_type": "markdown",
   "id": "3e08d280-c6e7-4559-9308-8615e223ffdc",
   "metadata": {},
   "source": [
    "4. np.linspace() – İki Değer Arasında Eşit Aralıklı Sayılar\n"
   ]
  },
  {
   "cell_type": "code",
   "execution_count": 7,
   "id": "419d00b2-c4bd-4da3-b30e-e600d7887a1e",
   "metadata": {},
   "outputs": [
    {
     "name": "stdout",
     "output_type": "stream",
     "text": [
      "\n",
      "4. 0 ile 1 arasında 5 eşit parça:\n",
      "[0.   0.25 0.5  0.75 1.  ]\n"
     ]
    }
   ],
   "source": [
    "linspace_arr = np.linspace(0, 1, 5)\n",
    "print(\"\\n4. 0 ile 1 arasında 5 eşit parça:\")\n",
    "print(linspace_arr)"
   ]
  },
  {
   "cell_type": "markdown",
   "id": "535d9153-2249-457e-852a-b63d7c636774",
   "metadata": {},
   "source": [
    "5. np.random.rand() – Rastgele Değerlerden Oluşan Dizi\n"
   ]
  },
  {
   "cell_type": "code",
   "execution_count": 9,
   "id": "54e8ed70-0f88-4ff8-b451-e31507a986b1",
   "metadata": {},
   "outputs": [
    {
     "name": "stdout",
     "output_type": "stream",
     "text": [
      "\n",
      "5. 3x3 Rastgele Sayılar:\n",
      "[[0.19684511 0.10803598 0.09716685]\n",
      " [0.82238911 0.64797746 0.04582444]\n",
      " [0.66423061 0.6808745  0.68396687]]\n"
     ]
    }
   ],
   "source": [
    "random_arr = np.random.rand(3, 3)\n",
    "print(\"\\n5. 3x3 Rastgele Sayılar:\")\n",
    "print(random_arr)\n"
   ]
  },
  {
   "cell_type": "markdown",
   "id": "88ddbb52-83ee-4a8d-9c41-8d5bb9255087",
   "metadata": {},
   "source": [
    "6. np.reshape() – Diziyi Yeniden Şekillendirme\n"
   ]
  },
  {
   "cell_type": "code",
   "execution_count": 10,
   "id": "7932a387-78f7-4d19-be2a-4ce201e9c0e7",
   "metadata": {},
   "outputs": [
    {
     "name": "stdout",
     "output_type": "stream",
     "text": [
      "\n",
      "6. 1-9 Arası Sayılar ile 3x3 Dizi:\n",
      "[[1 2 3]\n",
      " [4 5 6]\n",
      " [7 8 9]]\n"
     ]
    }
   ],
   "source": [
    "reshaped_arr = np.arange(1, 10).reshape(3, 3)\n",
    "print(\"\\n6. 1-9 Arası Sayılar ile 3x3 Dizi:\")\n",
    "print(reshaped_arr)\n"
   ]
  },
  {
   "cell_type": "markdown",
   "id": "924f3bc0-94c5-47a6-b1a1-bcce7cfc70b2",
   "metadata": {},
   "source": [
    "7. np.max(), np.min(), np.mean(), np.sum() – Temel İstatistiksel İşlemler\n"
   ]
  },
  {
   "cell_type": "code",
   "execution_count": 11,
   "id": "61f135eb-77a2-4fed-b878-d884a0ac152d",
   "metadata": {},
   "outputs": [
    {
     "name": "stdout",
     "output_type": "stream",
     "text": [
      "\n",
      "7. Max: 50\n",
      "   Min: 10\n",
      "   Mean (Ortalama): 30.0\n",
      "   Sum (Toplam): 150\n"
     ]
    }
   ],
   "source": [
    "sample_arr = np.array([10, 20, 30, 40, 50])\n",
    "print(\"\\n7. Max:\", np.max(sample_arr))\n",
    "print(\"   Min:\", np.min(sample_arr))\n",
    "print(\"   Mean (Ortalama):\", np.mean(sample_arr))\n",
    "print(\"   Sum (Toplam):\", np.sum(sample_arr))\n"
   ]
  },
  {
   "cell_type": "markdown",
   "id": "695f3aa2-a251-47f0-8635-61dde5064d39",
   "metadata": {},
   "source": [
    "8. np.eye() – Birim Matris Oluşturma\n"
   ]
  },
  {
   "cell_type": "code",
   "execution_count": 12,
   "id": "8d9ba3b9-21fe-4535-afd8-aff33c5c7058",
   "metadata": {},
   "outputs": [
    {
     "name": "stdout",
     "output_type": "stream",
     "text": [
      "\n",
      "8. 4x4 Birim Matris:\n",
      "[[1. 0. 0. 0.]\n",
      " [0. 1. 0. 0.]\n",
      " [0. 0. 1. 0.]\n",
      " [0. 0. 0. 1.]]\n"
     ]
    }
   ],
   "source": [
    "identity_matrix = np.eye(4)\n",
    "print(\"\\n8. 4x4 Birim Matris:\")\n",
    "print(identity_matrix)"
   ]
  },
  {
   "cell_type": "markdown",
   "id": "20125c6e-32d2-4aa5-9155-0b20ef3982ce",
   "metadata": {},
   "source": [
    "9. np.dot() – Matris Çarpımı\n"
   ]
  },
  {
   "cell_type": "code",
   "execution_count": 13,
   "id": "966dc888-4030-4bf2-8aa4-7e9af10ad544",
   "metadata": {},
   "outputs": [
    {
     "name": "stdout",
     "output_type": "stream",
     "text": [
      "\n",
      "9. Matris Çarpımı A * B:\n",
      "[[19 22]\n",
      " [43 50]]\n"
     ]
    }
   ],
   "source": [
    "A = np.array([[1, 2], [3, 4]])\n",
    "B = np.array([[5, 6], [7, 8]])\n",
    "dot_product = np.dot(A, B)\n",
    "print(\"\\n9. Matris Çarpımı A * B:\")\n",
    "print(dot_product)\n"
   ]
  },
  {
   "cell_type": "markdown",
   "id": "b68954ab-d461-4022-8e4c-ecb5e3ca340f",
   "metadata": {},
   "source": [
    "10. np.where() – Belirli Bir Koşula Göre Elemanları Seçme\n"
   ]
  },
  {
   "cell_type": "code",
   "execution_count": 14,
   "id": "12cf37d7-bddf-455b-950f-99c77693f63e",
   "metadata": {},
   "outputs": [
    {
     "name": "stdout",
     "output_type": "stream",
     "text": [
      "\n",
      "10. 20'den Büyük Olanlara 'Büyük' Yazdırma:\n",
      "['Küçük veya Eşit' 'Küçük veya Eşit' 'Küçük veya Eşit' 'Büyük' 'Büyük']\n"
     ]
    }
   ],
   "source": [
    "cond_arr = np.array([10, 15, 20, 25, 30])\n",
    "result = np.where(cond_arr > 20, \"Büyük\", \"Küçük veya Eşit\")\n",
    "print(\"\\n10. 20'den Büyük Olanlara 'Büyük' Yazdırma:\")\n",
    "print(result)\n"
   ]
  },
  {
   "cell_type": "code",
   "execution_count": null,
   "id": "1c09a8b6-b3d1-4e01-bd54-003abade2c5b",
   "metadata": {},
   "outputs": [],
   "source": []
  }
 ],
 "metadata": {
  "kernelspec": {
   "display_name": "Python 3 (ipykernel)",
   "language": "python",
   "name": "python3"
  },
  "language_info": {
   "codemirror_mode": {
    "name": "ipython",
    "version": 3
   },
   "file_extension": ".py",
   "mimetype": "text/x-python",
   "name": "python",
   "nbconvert_exporter": "python",
   "pygments_lexer": "ipython3",
   "version": "3.9.21"
  }
 },
 "nbformat": 4,
 "nbformat_minor": 5
}
